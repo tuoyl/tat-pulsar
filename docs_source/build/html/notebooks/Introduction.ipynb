{
 "cells": [
  {
   "cell_type": "markdown",
   "id": "1e1e6a1b-9bb4-41c7-9c77-cbd949f51ac5",
   "metadata": {},
   "source": [
    "## Introduction\n",
    "\n",
    "### Scientific Products\n",
    "\n",
    "#### L1 Event data\n",
    "The scientific products (SP) for GRM X-band analysis, are generated from the L1 data, \n",
    "which include the event data, orbital file of satellite, and the response file.\n",
    "\n",
    "The most important and wildly used file is Event file. As multiple analysis tools create class for event data, we do so as well."
   ]
  },
  {
   "cell_type": "markdown",
   "id": "79835fbd-0162-434f-a3a2-bcd274392936",
   "metadata": {
    "tags": []
   },
   "source": [
    "USAGE DESIGN:\n",
    "```\n",
    "    >>> from grmtools.data.io import load_evt\n",
    "    >>> evt = load_evt(filename)\n",
    "```\n",
    "The Event class could be load from a function specially integrated for GRM, or could manually setup the attributes. The attributes including:\n",
    "\n",
    "```\n",
    "Attributes\n",
    "----------\n",
    "    time : array\n",
    "    \n",
    "    PI : array\n",
    "    \n",
    "    gain : array\n",
    "        The gain type for each photon\n",
    "    \n",
    "    dead_time : float\n",
    "        The dead time of GRD instrument, note that for GRD the dead time\n",
    "        is the same value for each photon. This is not the case for other\n",
    "        type of detectors (e.g., HXMT).\n",
    "    \n",
    "    instrument : string\n",
    "        Instrument name. for SVOM-GRM instrument is \"GRM\"\n",
    "```"
   ]
  },
  {
   "cell_type": "markdown",
   "id": "e92b4b77-71a0-4c3d-a1f9-b2353da35041",
   "metadata": {},
   "source": [
    "##### filtering data\n",
    "When loading the entire GRM events data, all photons containing three GRDs are loaded (because it's not RAM expensive analysis since only three GRDs are stored in the event file).\n",
    "\n",
    "So the method of filtering the data is essential. The class method \\texttt{Event.filter} is implemented for this purpose. Whether you can:\n",
    "\n",
    "- select the photons by a mask array (e.g., `Event.filter((time>=tstart)&(time<=tstop))` filters all attributes data by the input Bool array. Error raises if the length of mask array does not match the data.)\n",
    "- detector object (the detector object contains the information that required for the analysis, e.g., gain type)\n",
    "- a list of detector object to filter the data."
   ]
  },
  {
   "cell_type": "markdown",
   "id": "4e14bd27-cbb4-4c02-89f4-a5b270d35f85",
   "metadata": {},
   "source": [
    "##### events related lightcurve and spectrum\n",
    "\n",
    "We define the class for lightcurve and spectrum. The `LightCurve` and `Spectrum` in universal class for lightcurve and spectrum analysis, but here we set the attributes that returns a `LightCureve`, and `Spectrum` class respectively.\n",
    "\n",
    "Those classes are related based on the photons stored in this class, more importantly, those two classes should be able to interact with each other. \n",
    "\n",
    "```\n",
    "Attributes\n",
    "----------\n",
    "    ...\n",
    "    \n",
    "    lightcurve : object (class:`LightCurve`)\n",
    "        The LightCurve object for photons selected in event class\n",
    "        \n",
    "    spectrum : object (class:`Spectrum`)\n",
    "        The Spectrum object for photons selected in event class\n",
    "```"
   ]
  }
 ],
 "metadata": {
  "kernelspec": {
   "display_name": "Python 3 (ipykernel)",
   "language": "python",
   "name": "python3"
  },
  "language_info": {
   "codemirror_mode": {
    "name": "ipython",
    "version": 3
   },
   "file_extension": ".py",
   "mimetype": "text/x-python",
   "name": "python",
   "nbconvert_exporter": "python",
   "pygments_lexer": "ipython3",
   "version": "3.7.10"
  }
 },
 "nbformat": 4,
 "nbformat_minor": 5
}
